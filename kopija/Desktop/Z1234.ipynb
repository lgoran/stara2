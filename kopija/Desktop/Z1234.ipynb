{
 "cells": [
  {
   "cell_type": "markdown",
   "metadata": {},
   "source": [
    "# Pisana provjera znanja iz kolegija Matematički softver"
   ]
  },
  {
   "cell_type": "markdown",
   "metadata": {},
   "source": [
    "## Prvi zadatak"
   ]
  },
  {
   "cell_type": "markdown",
   "metadata": {},
   "source": [
    "Napišite funkciju `najkraći` koja prima kolekciju (*iterable*) stringova `L` i vraća listu stringova najmanje duljine iz `L`, onim redom kojim se pojavljuju u `L`. Za svih 5 bodova, smijete samo jednom proći kroz `L` (rješenje koje više puta prolazi kroz `L` nosi 4 boda)."
   ]
  },
  {
   "cell_type": "markdown",
   "metadata": {},
   "source": [
    "### Primjeri:"
   ]
  },
  {
   "cell_type": "code",
   "execution_count": 10,
   "metadata": {},
   "outputs": [
    {
     "data": {
      "text/plain": [
       "['kratka', 'upravo']"
      ]
     },
     "execution_count": 10,
     "metadata": {},
     "output_type": "execute_result"
    }
   ],
   "source": [
    "najkraći('Nekakva kratka rečenica predstavlja provjeru upravo napisane funkcije.'.split())"
   ]
  },
  {
   "cell_type": "code",
   "execution_count": 11,
   "metadata": {},
   "outputs": [
    {
     "data": {
      "text/plain": [
       "['a', 'd', 'l', 'm']"
      ]
     },
     "execution_count": 11,
     "metadata": {},
     "output_type": "execute_result"
    }
   ],
   "source": [
    "import itertools\n",
    "najkraći(itertools.chain(['a', 'bc'], ['d', 'ef', 'gh'], ['ijk', 'l', 'm', 'no']))"
   ]
  },
  {
   "cell_type": "markdown",
   "metadata": {},
   "source": [
    "## Drugi zadatak"
   ]
  },
  {
   "cell_type": "markdown",
   "metadata": {},
   "source": [
    "Stvorite vektor `teren` od milijun cijelih brojeva iz $[1,5000]$ koji predstavljaju visine terena na milijun ekvidistantnih točaka. Zamislite da na taj teren pada kiša, koja može oteći samo preko rubova terena. Izračunajte koliko kiše će ostati nakupljeno u dolinama terena. Za svih 5 bodova potrebno je zadatak riješiti korištenjem Numpyjevih funkcija, a ne Pythonovim prolaskom po elementima `teren`a (npr. `for`-petljom). Pazite na mogućnost *overflow*a!"
   ]
  },
  {
   "cell_type": "markdown",
   "metadata": {},
   "source": [
    "### Primjer:"
   ]
  },
  {
   "cell_type": "markdown",
   "metadata": {},
   "source": [
    "Za teren `[2,5,3,6,2,1,4]`, rezultat je `7`, što pokazuje donja slika:"
   ]
  },
  {
   "cell_type": "code",
   "execution_count": 44,
   "metadata": {},
   "outputs": [],
   "source": [
    "import matplotlib.pyplot as plt\n",
    "%matplotlib inline"
   ]
  },
  {
   "cell_type": "code",
   "execution_count": 45,
   "metadata": {},
   "outputs": [
    {
     "data": {
      "text/plain": [
       "<matplotlib.image.AxesImage at 0x2197691bf48>"
      ]
     },
     "execution_count": 45,
     "metadata": {},
     "output_type": "execute_result"
    },
    {
     "data": {
      "image/png": "[encoded data removed]",
      "text/plain": [
       "<Figure size 336x288 with 1 Axes>"
      ]
     },
     "metadata": {
      "needs_background": "light"
     },
     "output_type": "display_data"
    }
   ],
   "source": [
    "plt.matshow([\n",
    "    [2,2,2,0,2,2,2],\n",
    "    [2,0,1,0,2,2,2],\n",
    "    [2,0,1,0,1,1,0],\n",
    "    [2,0,0,0,1,1,0],\n",
    "    [0,0,0,0,0,1,0],\n",
    "    [0,0,0,0,0,0,0]\n",
    "])"
   ]
  },
  {
   "cell_type": "markdown",
   "metadata": {},
   "source": [
    "## Treći zadatak"
   ]
  },
  {
   "cell_type": "markdown",
   "metadata": {},
   "source": [
    "S [ove adrese](https://raw.githubusercontent.com/KeithGalli/Pandas-Data-Science-Tasks/master/SalesAnalysis/Sales_Data/Sales_January_2019.csv) učitajte dataframe koji predstavlja podatke o prodaji elektroničke opreme tijekom jednog vremenskog razdoblja.\n",
    "\n",
    "Pazite: header je ponovljen nekoliko puta unutar same datoteke, i neki retci se sastoje od praznih ćelija. Te retke treba obrisati!\n",
    "\n",
    "Postavite ispravne tipove podataka za stupce. Postavite `Order ID` za indeks.\n",
    "\n",
    "Izračunajte koliko dana pokriva ta tablica (od najranijeg do najkasnijeg datuma, uključivo oba).\n",
    "\n",
    "Dodajte novi stupac `Billed` koji predstavlja ukupan plaćeni iznos. Na svaku narudžbu (redak) više komada uređaja cijene veće od 50 daje se popust od 5%.\n",
    "\n",
    "U procesu rješavanja zadatka smijete dodavati pomoćne stupce, ali ih morate obrisati na kraju.\n",
    "\n",
    "Izvucite stupce `Order Date` i `Purchase Address` na početak svakog retka (lijevo).\n",
    "\n",
    "Proizvedite tablicu:"
   ]
  },
  {
   "cell_type": "code",
   "execution_count": 247,
   "metadata": {
    "scrolled": true
   },
   "outputs": [
    {
     "data": {
      "text/html": [
       "<div>\n",
       "<style scoped>\n",
       "    .dataframe tbody tr th:only-of-type {\n",
       "        vertical-align: middle;\n",
       "    }\n",
       "\n",
       "    .dataframe tbody tr th {\n",
       "        vertical-align: top;\n",
       "    }\n",
       "\n",
       "    .dataframe thead th {\n",
       "        text-align: right;\n",
       "    }\n",
       "</style>\n",
       "<table border=\"1\" class=\"dataframe\">\n",
       "  <thead>\n",
       "    <tr style=\"text-align: right;\">\n",
       "      <th></th>\n",
       "      <th>Quantity Ordered</th>\n",
       "      <th>Billed</th>\n",
       "    </tr>\n",
       "    <tr>\n",
       "      <th>Product</th>\n",
       "      <th></th>\n",
       "      <th></th>\n",
       "    </tr>\n",
       "  </thead>\n",
       "  <tbody>\n",
       "    <tr>\n",
       "      <th>Macbook Pro Laptop</th>\n",
       "      <td>235</td>\n",
       "      <td>399500.00</td>\n",
       "    </tr>\n",
       "    <tr>\n",
       "      <th>iPhone</th>\n",
       "      <td>379</td>\n",
       "      <td>265300.00</td>\n",
       "    </tr>\n",
       "    <tr>\n",
       "      <th>ThinkPad Laptop</th>\n",
       "      <td>217</td>\n",
       "      <td>214997.85</td>\n",
       "    </tr>\n",
       "    <tr>\n",
       "      <th>Google Phone</th>\n",
       "      <td>318</td>\n",
       "      <td>189600.00</td>\n",
       "    </tr>\n",
       "    <tr>\n",
       "      <th>27in 4K Gaming Monitor</th>\n",
       "      <td>312</td>\n",
       "      <td>121676.88</td>\n",
       "    </tr>\n",
       "    <tr>\n",
       "      <th>Apple Airpods Headphones</th>\n",
       "      <td>814</td>\n",
       "      <td>120600.00</td>\n",
       "    </tr>\n",
       "    <tr>\n",
       "      <th>34in Ultrawide Monitor</th>\n",
       "      <td>314</td>\n",
       "      <td>118556.88</td>\n",
       "    </tr>\n",
       "    <tr>\n",
       "      <th>Flatscreen TV</th>\n",
       "      <td>243</td>\n",
       "      <td>72900.00</td>\n",
       "    </tr>\n",
       "    <tr>\n",
       "      <th>Bose SoundSport Headphones</th>\n",
       "      <td>659</td>\n",
       "      <td>65293.47</td>\n",
       "    </tr>\n",
       "    <tr>\n",
       "      <th>27in FHD Monitor</th>\n",
       "      <td>419</td>\n",
       "      <td>62545.83</td>\n",
       "    </tr>\n",
       "    <tr>\n",
       "      <th>Vareebadd Phone</th>\n",
       "      <td>125</td>\n",
       "      <td>49200.00</td>\n",
       "    </tr>\n",
       "    <tr>\n",
       "      <th>LG Washing Machine</th>\n",
       "      <td>42</td>\n",
       "      <td>25200.00</td>\n",
       "    </tr>\n",
       "    <tr>\n",
       "      <th>LG Dryer</th>\n",
       "      <td>39</td>\n",
       "      <td>23400.00</td>\n",
       "    </tr>\n",
       "    <tr>\n",
       "      <th>20in Monitor</th>\n",
       "      <td>215</td>\n",
       "      <td>23207.89</td>\n",
       "    </tr>\n",
       "    <tr>\n",
       "      <th>Lightning Charging Cable</th>\n",
       "      <td>1151</td>\n",
       "      <td>17207.45</td>\n",
       "    </tr>\n",
       "    <tr>\n",
       "      <th>USB-C Charging Cable</th>\n",
       "      <td>1284</td>\n",
       "      <td>15343.80</td>\n",
       "    </tr>\n",
       "    <tr>\n",
       "      <th>Wired Headphones</th>\n",
       "      <td>1081</td>\n",
       "      <td>12961.19</td>\n",
       "    </tr>\n",
       "    <tr>\n",
       "      <th>AA Batteries (4-pack)</th>\n",
       "      <td>1425</td>\n",
       "      <td>5472.00</td>\n",
       "    </tr>\n",
       "    <tr>\n",
       "      <th>AAA Batteries (4-pack)</th>\n",
       "      <td>1596</td>\n",
       "      <td>4772.04</td>\n",
       "    </tr>\n",
       "  </tbody>\n",
       "</table>\n",
       "</div>"
      ],
      "text/plain": [
       "                            Quantity Ordered     Billed\n",
       "Product                                                \n",
       "Macbook Pro Laptop                       235  399500.00\n",
       "iPhone                                   379  265300.00\n",
       "ThinkPad Laptop                          217  214997.85\n",
       "Google Phone                             318  189600.00\n",
       "27in 4K Gaming Monitor                   312  121676.88\n",
       "Apple Airpods Headphones                 814  120600.00\n",
       "34in Ultrawide Monitor                   314  118556.88\n",
       "Flatscreen TV                            243   72900.00\n",
       "Bose SoundSport Headphones               659   65293.47\n",
       "27in FHD Monitor                         419   62545.83\n",
       "Vareebadd Phone                          125   49200.00\n",
       "LG Washing Machine                        42   25200.00\n",
       "LG Dryer                                  39   23400.00\n",
       "20in Monitor                             215   23207.89\n",
       "Lightning Charging Cable                1151   17207.45\n",
       "USB-C Charging Cable                    1284   15343.80\n",
       "Wired Headphones                        1081   12961.19\n",
       "AA Batteries (4-pack)                   1425    5472.00\n",
       "AAA Batteries (4-pack)                  1596    4772.04"
      ]
     },
     "execution_count": 247,
     "metadata": {},
     "output_type": "execute_result"
    }
   ],
   "source": []
  },
  {
   "cell_type": "markdown",
   "metadata": {},
   "source": [
    "## Četvrti zadatak"
   ]
  },
  {
   "cell_type": "markdown",
   "metadata": {},
   "source": [
    "Napišite funkciju `ĽHôpital` koja prima tri argumenta: izraz `t` u obliku razlomka $\\frac{f(x)}{g(x)}$, simbol `x` i vrijednost `c`. Treba izračunati $\\lim_{x\\to c}t$ L'Hôpitalovim pravilom: ako direktno uvrštavanje `c` za `x` u `f` i `g` proizvede nešto što nije neodređeni izraz, treba vratiti vrijednost $\\frac{f(c)}{g(c)}$. Inače, treba simbolički derivirati $f$ i $g$ te rekurzivnim pozivom odrediti $\\lim_{x\\to c}\\frac{f'(x)}{g'(x)}$.\n",
    "\n",
    "Neodređenim izrazima se smatraju samo oni koji su razlomci, dakle ne treba promatrati $1^\\infty$ i slične."
   ]
  },
  {
   "cell_type": "code",
   "execution_count": null,
   "metadata": {},
   "outputs": [],
   "source": []
  }
 ],
 "metadata": {
  "kernelspec": {
   "display_name": "Python 3",
   "language": "python",
   "name": "python3"
  },
  "language_info": {
   "codemirror_mode": {
    "name": "ipython",
    "version": 3
   },
   "file_extension": ".py",
   "mimetype": "text/x-python",
   "name": "python",
   "nbconvert_exporter": "python",
   "pygments_lexer": "ipython3",
   "version": "3.7.7"
  }
 },
 "nbformat": 4,
 "nbformat_minor": 4
}
