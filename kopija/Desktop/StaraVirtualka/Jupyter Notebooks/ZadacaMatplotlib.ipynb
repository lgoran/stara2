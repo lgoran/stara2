{
 "cells": [
  {
   "cell_type": "code",
   "execution_count": 18,
   "metadata": {},
   "outputs": [],
   "source": [
    "import numpy as np\n",
    "import matplotlib.pyplot as plt\n",
    "import matplotlib.path as mpath\n",
    "import matplotlib.lines as mlines\n",
    "import matplotlib.patches as mpatches\n",
    "from matplotlib.collections import PatchCollection"
   ]
  },
  {
   "cell_type": "code",
   "execution_count": 79,
   "metadata": {},
   "outputs": [],
   "source": [
    "def fib(n):\n",
    "    if n < 2:\n",
    "        return n;\n",
    "    else:\n",
    "        return fib(n-1) + fib(n-2);\n"
   ]
  },
  {
   "cell_type": "code",
   "execution_count": 80,
   "metadata": {},
   "outputs": [],
   "source": [
    "def ispisiBroj(xy, text, j):\n",
    "    plt.text(xy[0], xy[1], text, ha=\"center\", family='sans-serif', size=j);"
   ]
  },
  {
   "cell_type": "code",
   "execution_count": 111,
   "metadata": {},
   "outputs": [],
   "source": [
    "def crtaj(n):\n",
    "    fig, ax = plt.subplots(); \n",
    "    patches = [];\n",
    "\n",
    "    xy = np.array([0, 0]);\n",
    "    centar = xy;\n",
    "    i=1; \n",
    "    t = np.array([270, 0]);\n",
    "    for j in range(1,n+1):\n",
    "        trenutni_fib=fib(j);\n",
    "        t += 90;\n",
    "        if i == 5: \n",
    "            i=1;\n",
    "        if i==1:\n",
    "            xy = xy + [-fib(j-2), fib(j-1)];   \n",
    "            centar = centar + [-fib(j-2),0];\n",
    "        if i==2:\n",
    "            xy = xy + [-fib(j),-fib(j-2)];     \n",
    "            centar = centar + [0,-fib(j-2) ]; \n",
    "        elif i==3:\n",
    "            xy = xy + [0,-fib(j)];    \n",
    "            centar = centar + [fib(j-2),0];\n",
    "        elif i==4:\n",
    "            xy = xy + [fib(j-1),0];    \n",
    "            centar = centar + [0,fib(j-2)];\n",
    "\n",
    "        wedge = mpatches.Wedge([centar[0],centar[1]],trenutni_fib, t[0], t[1], ec=\"none\");\n",
    "        patches.append(wedge);\n",
    "        rectangle = mpatches.Rectangle([xy[0],xy[1]], trenutni_fib, trenutni_fib, ec=\"none\"); \n",
    "        patches.append(rectangle);         \n",
    "        ispisiBroj( xy+[0.5*trenutni_fib,0.5*trenutni_fib], \"%s\"%trenutni_fib, j*2);\n",
    "        i+=1;\n",
    "\n",
    "    boje = np.linspace(0.1, 0.9, len(patches));\n",
    "    collection = PatchCollection(patches, cmap=plt.cm.hsv, alpha=0.5); \n",
    "    collection.set_array(np.array(boje));\n",
    "    ax.add_collection(collection);\n",
    "    plt.axis('equal');\n",
    "    plt.axis('off'); \n",
    "    plt.grid('off');\n",
    "    fig"
   ]
  },
  {
   "cell_type": "code",
   "execution_count": 114,
   "metadata": {},
   "outputs": [
    {
     "data": {
      "image/png": "[encoded data removed]",
      "text/plain": [
       "<Figure size 640x480 with 1 Axes>"
      ]
     },
     "metadata": {},
     "output_type": "display_data"
    }
   ],
   "source": [
    "crtaj(10)"
   ]
  },
  {
   "cell_type": "code",
   "execution_count": null,
   "metadata": {},
   "outputs": [],
   "source": []
  }
 ],
 "metadata": {
  "kernelspec": {
   "display_name": "Python 3",
   "language": "python",
   "name": "python3"
  },
  "language_info": {
   "codemirror_mode": {
    "name": "ipython",
    "version": 3
   },
   "file_extension": ".py",
   "mimetype": "text/x-python",
   "name": "python",
   "nbconvert_exporter": "python",
   "pygments_lexer": "ipython3",
   "version": "3.7.6"
  }
 },
 "nbformat": 4,
 "nbformat_minor": 4
}
