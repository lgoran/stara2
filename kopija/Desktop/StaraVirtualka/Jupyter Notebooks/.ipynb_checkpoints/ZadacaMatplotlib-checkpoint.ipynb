{
 "cells": [
  {
   "cell_type": "code",
   "execution_count": 18,
   "metadata": {},
   "outputs": [],
   "source": [
    "import numpy as np\n",
    "import matplotlib.pyplot as plt\n",
    "import matplotlib.path as mpath\n",
    "import matplotlib.lines as mlines\n",
    "import matplotlib.patches as mpatches\n",
    "from matplotlib.collections import PatchCollection"
   ]
  },
  {
   "cell_type": "code",
   "execution_count": 19,
   "metadata": {},
   "outputs": [],
   "source": [
    "def fib(n):\n",
    "    if n < 2:\n",
    "        return n\n",
    "    else:\n",
    "        return fib(n-1) + fib(n-2)\n"
   ]
  },
  {
   "cell_type": "code",
   "execution_count": 21,
   "metadata": {},
   "outputs": [],
   "source": [
    "def label(xy, text, j):\n",
    "    y = xy[1] - 0.025 # shift y-value to center label\n",
    "    plt.text(xy[0], y, text, ha=\"center\", family='sans-serif', size=j)"
   ]
  },
  {
   "cell_type": "code",
   "execution_count": 77,
   "metadata": {},
   "outputs": [],
   "source": [
    "def crtaj(n):\n",
    "    fig, ax = plt.subplots(); \n",
    "    patches = [];\n",
    "\n",
    "    xy = np.array([0, 0]);\n",
    "    c = xy;\n",
    "    i=1; \n",
    "    t = np.array([270, 0]);\n",
    "    for j in range(1,n+1):\n",
    "        t += 90;\n",
    "        if i == 5: \n",
    "            i=1;\n",
    "        if i==1:\n",
    "            xy = xy + [-fib(j-2), fib(j-1)];   \n",
    "            c = c + [-fib(j-2),0];\n",
    "        if i==2:\n",
    "            xy = xy + [-fib(j),-fib(j-2)];     \n",
    "            c = c + [0,-fib(j-2) ]; \n",
    "        elif i==3:\n",
    "            xy = xy + [0,-fib(j)];    \n",
    "            c = c + [fib(j-2),0];\n",
    "        elif i==4:\n",
    "            xy = xy + [fib(j-1),0];    \n",
    "            c = c + [0,fib(j-2)];\n",
    "\n",
    "        # Add a wedge\n",
    "        rect = mpatches.Wedge([c[0],c[1]],fib(j), t[0], t[1], ec=\"none\");\n",
    "        patches.append(rect);\n",
    "\n",
    "        # Add a rectangle\n",
    "        rect = mpatches.Rectangle([xy[0],xy[1]], fib(j), fib(j), ec=\"none\"); \n",
    "        patches.append(rect);         \n",
    "        label( xy+[0.5*fib(j),  0.5*fib(j)], \"%s\"%fib(j), j*2);\n",
    "        i+=1;\n",
    "\n",
    "    colors = np.linspace(0.1, 0.9, len(patches));\n",
    "    collection = PatchCollection(patches, cmap=plt.cm.hsv, alpha=0.5); \n",
    "    collection.set_array(np.array(colors));\n",
    "    ax.add_collection(collection);\n",
    "    plt.axis('equal');\n",
    "    plt.axis('off'); \n",
    "    plt.grid('off');\n",
    "    plt.show();"
   ]
  },
  {
   "cell_type": "code",
   "execution_count": 78,
   "metadata": {},
   "outputs": [
    {
     "data": {
      "image/png": "[encoded data removed]",
      "text/plain": [
       "<Figure size 640x480 with 1 Axes>"
      ]
     },
     "metadata": {},
     "output_type": "display_data"
    }
   ],
   "source": [
    "crtaj(10)"
   ]
  },
  {
   "cell_type": "code",
   "execution_count": null,
   "metadata": {},
   "outputs": [],
   "source": []
  }
 ],
 "metadata": {
  "kernelspec": {
   "display_name": "Python 3",
   "language": "python",
   "name": "python3"
  },
  "language_info": {
   "codemirror_mode": {
    "name": "ipython",
    "version": 3
   },
   "file_extension": ".py",
   "mimetype": "text/x-python",
   "name": "python",
   "nbconvert_exporter": "python",
   "pygments_lexer": "ipython3",
   "version": "3.7.6"
  }
 },
 "nbformat": 4,
 "nbformat_minor": 4
}
