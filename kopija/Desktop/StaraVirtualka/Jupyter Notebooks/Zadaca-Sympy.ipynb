{
 "cells": [
  {
   "cell_type": "code",
   "execution_count": 1,
   "metadata": {},
   "outputs": [],
   "source": [
    "import sympy as sp\n",
    "import sympy.abc as abc\n",
    "from scipy import linalg\n",
    "sp.init_printing()"
   ]
  },
  {
   "cell_type": "markdown",
   "metadata": {},
   "source": [
    "1. (re)prezentacija simboličkih izraza sp.pprint"
   ]
  },
  {
   "cell_type": "code",
   "execution_count": 2,
   "metadata": {},
   "outputs": [
    {
     "name": "stdout",
     "output_type": "stream",
     "text": [
      "log(asin(tanh(ο)))           \n",
      "────────────────── + acsch(υ)\n",
      "      log(π)                 \n"
     ]
    }
   ],
   "source": [
    "x=sp.acsch(abc.upsilon)+sp.log(sp.asin(sp.tanh(abc.omicron)),sp.pi)\n",
    "\n",
    "sp.pprint(x)"
   ]
  },
  {
   "cell_type": "markdown",
   "metadata": {},
   "source": [
    "2. linearna algebra inverz matrice poznate regularne matrice iz numeričke analize"
   ]
  },
  {
   "cell_type": "code",
   "execution_count": 3,
   "metadata": {},
   "outputs": [
    {
     "name": "stdout",
     "output_type": "stream",
     "text": [
      "⎡2   -1  0   0   0   0   0   0   0   0   0   0   0   0   0 ⎤\n",
      "⎢                                                          ⎥\n",
      "⎢-1  2   -1  0   0   0   0   0   0   0   0   0   0   0   0 ⎥\n",
      "⎢                                                          ⎥\n",
      "⎢0   -1  2   -1  0   0   0   0   0   0   0   0   0   0   0 ⎥\n",
      "⎢                                                          ⎥\n",
      "⎢0   0   -1  2   -1  0   0   0   0   0   0   0   0   0   0 ⎥\n",
      "⎢                                                          ⎥\n",
      "⎢0   0   0   -1  2   -1  0   0   0   0   0   0   0   0   0 ⎥\n",
      "⎢                                                          ⎥\n",
      "⎢0   0   0   0   -1  2   -1  0   0   0   0   0   0   0   0 ⎥\n",
      "⎢                                                          ⎥\n",
      "⎢0   0   0   0   0   -1  2   -1  0   0   0   0   0   0   0 ⎥\n",
      "⎢                                                          ⎥\n",
      "⎢0   0   0   0   0   0   -1  2   -1  0   0   0   0   0   0 ⎥\n",
      "⎢                                                          ⎥\n",
      "⎢0   0   0   0   0   0   0   -1  2   -1  0   0   0   0   0 ⎥\n",
      "⎢                                                          ⎥\n",
      "⎢0   0   0   0   0   0   0   0   -1  2   -1  0   0   0   0 ⎥\n",
      "⎢                                                          ⎥\n",
      "⎢0   0   0   0   0   0   0   0   0   -1  2   -1  0   0   0 ⎥\n",
      "⎢                                                          ⎥\n",
      "⎢0   0   0   0   0   0   0   0   0   0   -1  2   -1  0   0 ⎥\n",
      "⎢                                                          ⎥\n",
      "⎢0   0   0   0   0   0   0   0   0   0   0   -1  2   -1  0 ⎥\n",
      "⎢                                                          ⎥\n",
      "⎢0   0   0   0   0   0   0   0   0   0   0   0   -1  2   -1⎥\n",
      "⎢                                                          ⎥\n",
      "⎣0   0   0   0   0   0   0   0   0   0   0   0   0   -1  2 ⎦\n",
      "⎡ 15          13          11                                                  \n",
      "⎢ ──   7/8    ──   3/4    ──   5/8   9/16  1/2  7/16  3/8   5/16  1/4   3/16  \n",
      "⎢ 16          16          16                                                  \n",
      "⎢                                                                             \n",
      "⎢7/8   7/4   13/8  3/2   11/8  5/4   9/8    1   7/8   3/4   5/8   1/2   3/8   \n",
      "⎢                                                                             \n",
      "⎢ 13          39          33          27         21          15               \n",
      "⎢ ──   13/8   ──   9/4    ──   15/8   ──   3/2   ──   9/8    ──   3/4   9/16  \n",
      "⎢ 16          16          16          16         16          16               \n",
      "⎢                                                                             \n",
      "⎢3/4   3/2   9/4    3    11/4  5/2   9/4    2   7/4   3/2   5/4    1    3/4   \n",
      "⎢                                                                             \n",
      "⎢ 11          33          55          45         35          25          15   \n",
      "⎢ ──   11/8   ──   11/4   ──   25/8   ──   5/2   ──   15/8   ──   5/4    ──   \n",
      "⎢ 16          16          16          16         16          16          16   \n",
      "⎢                                                                             \n",
      "⎢5/8   5/4   15/8  5/2   25/8  15/4  27/8   3   21/8  9/4   15/8  3/2   9/8   \n",
      "⎢                                                                             \n",
      "⎢             27          45          63         49          35          21   \n",
      "⎢9/16  9/8    ──   9/4    ──   27/8   ──   7/2   ──   21/8   ──   7/4    ──   \n",
      "⎢             16          16          16         16          16          16   \n",
      "⎢                                                                             \n",
      "⎢1/2    1    3/2    2    5/2    3    7/2    4   7/2    3    5/2    2    3/2   \n",
      "⎢                                                                             \n",
      "⎢             21          35          49         63          45          27   \n",
      "⎢7/16  7/8    ──   7/4    ──   21/8   ──   7/2   ──   27/8   ──   9/4    ──   \n",
      "⎢             16          16          16         16          16          16   \n",
      "⎢                                                                             \n",
      "⎢3/8   3/4   9/8   3/2   15/8  9/4   21/8   3   27/8  15/4  25/8  5/2   15/8  \n",
      "⎢                                                                             \n",
      "⎢             15          25          35         45          55          33   \n",
      "⎢5/16  5/8    ──   5/4    ──   15/8   ──   5/2   ──   25/8   ──   11/4   ──   \n",
      "⎢             16          16          16         16          16          16   \n",
      "⎢                                                                             \n",
      "⎢1/4   1/2   3/4    1    5/4   3/2   7/4    2   9/4   5/2   11/4   3    9/4   \n",
      "⎢                                                                             \n",
      "⎢                         15          21         27          33          39   \n",
      "⎢3/16  3/8   9/16  3/4    ──   9/8    ──   3/2   ──   15/8   ──   9/4    ──   \n",
      "⎢                         16          16         16          16          16   \n",
      "⎢                                                                             \n",
      "⎢1/8   1/4   3/8   1/2   5/8   3/4   7/8    1   9/8   5/4   11/8  3/2   13/8  \n",
      "⎢                                                                             \n",
      "⎢                                                            11          13   \n",
      "⎢1/16  1/8   3/16  1/4   5/16  3/8   7/16  1/2  9/16  5/8    ──   3/4    ──   \n",
      "⎣                                                            16          16   \n",
      "\n",
      "          ⎤\n",
      "1/8   1/16⎥\n",
      "          ⎥\n",
      "          ⎥\n",
      "1/4   1/8 ⎥\n",
      "          ⎥\n",
      "          ⎥\n",
      "3/8   3/16⎥\n",
      "          ⎥\n",
      "          ⎥\n",
      "1/2   1/4 ⎥\n",
      "          ⎥\n",
      "          ⎥\n",
      "5/8   5/16⎥\n",
      "          ⎥\n",
      "          ⎥\n",
      "3/4   3/8 ⎥\n",
      "          ⎥\n",
      "          ⎥\n",
      "7/8   7/16⎥\n",
      "          ⎥\n",
      "          ⎥\n",
      " 1    1/2 ⎥\n",
      "          ⎥\n",
      "          ⎥\n",
      "9/8   9/16⎥\n",
      "          ⎥\n",
      "          ⎥\n",
      "5/4   5/8 ⎥\n",
      "          ⎥\n",
      "       11 ⎥\n",
      "11/8   ── ⎥\n",
      "       16 ⎥\n",
      "          ⎥\n",
      "3/2   3/4 ⎥\n",
      "          ⎥\n",
      "       13 ⎥\n",
      "13/8   ── ⎥\n",
      "       16 ⎥\n",
      "          ⎥\n",
      "7/4   7/8 ⎥\n",
      "          ⎥\n",
      "       15 ⎥\n",
      "7/8    ── ⎥\n",
      "       16 ⎦\n"
     ]
    }
   ],
   "source": [
    "n=15\n",
    "M=2*sp.eye(n)\n",
    "\n",
    "for i in range(n):\n",
    "    if i<n-1:\n",
    "        M[i,i+1]=-1\n",
    "    if i>0: \n",
    "        M[i,i-1]=-1\n",
    "sp.pprint(M)\n",
    "sp.pprint(M.inverse_ADJ())"
   ]
  },
  {
   "cell_type": "markdown",
   "metadata": {},
   "source": [
    "3.diferencijalni i integralni račun - teški integral"
   ]
  },
  {
   "cell_type": "code",
   "execution_count": 4,
   "metadata": {},
   "outputs": [
    {
     "name": "stdout",
     "output_type": "stream",
     "text": [
      "⌠                  \n",
      "⎮ log(x)⋅asin(x) dx\n",
      "⌡                  \n",
      "Uspiješno izračunat intergral, iako na internetu piše da verzija Sympy 0.7.2 ga nije mogla riješiti\n"
     ]
    },
    {
     "data": {
      "text/latex": [
       "$\\displaystyle x \\log{\\left(x \\right)} \\operatorname{asin}{\\left(x \\right)} - x \\operatorname{asin}{\\left(x \\right)} + \\sqrt{1 - x^{2}} \\log{\\left(x \\right)} - \\sqrt{1 - x^{2}} - \\begin{cases} - \\frac{x}{\\sqrt{-1 + \\frac{1}{x^{2}}}} - \\operatorname{acosh}{\\left(\\frac{1}{x} \\right)} + \\frac{1}{x \\sqrt{-1 + \\frac{1}{x^{2}}}} & \\text{for}\\: \\frac{1}{\\left|{x^{2}}\\right|} > 1 \\\\\\frac{i x}{\\sqrt{1 - \\frac{1}{x^{2}}}} + i \\operatorname{asin}{\\left(\\frac{1}{x} \\right)} - \\frac{i}{x \\sqrt{1 - \\frac{1}{x^{2}}}} & \\text{otherwise} \\end{cases}$"
      ],
      "text/plain": [
       "                                                                  ⎛⎧        x \n",
       "                                                                  ⎜⎪- ────────\n",
       "                                                                  ⎜⎪       ___\n",
       "                                                                  ⎜⎪      ╱   \n",
       "                                                                  ⎜⎪     ╱  -1\n",
       "                                  ________             ________   ⎜⎪    ╱     \n",
       "                                 ╱      2             ╱      2    ⎜⎪  ╲╱      \n",
       "x⋅log(x)⋅asin(x) - x⋅asin(x) + ╲╱  1 - x  ⋅log(x) - ╲╱  1 - x   - ⎜⎨          \n",
       "                                                                  ⎜⎪      ⅈ⋅x \n",
       "                                                                  ⎜⎪ ─────────\n",
       "                                                                  ⎜⎪      ____\n",
       "                                                                  ⎜⎪     ╱    \n",
       "                                                                  ⎜⎪    ╱  1 -\n",
       "                                                                  ⎜⎪   ╱      \n",
       "                                                                  ⎝⎩ ╲╱       \n",
       "\n",
       "              ⎛1⎞          1               1      ⎞\n",
       "────── - acosh⎜─⎟ + ────────────────  for ──── > 1⎟\n",
       "______        ⎝x⎠          _________      │ 2│    ⎟\n",
       "   1                      ╱      1        │x │    ⎟\n",
       " + ──               x⋅   ╱  -1 + ──               ⎟\n",
       "    2                   ╱         2               ⎟\n",
       "   x                  ╲╱         x                ⎟\n",
       "                                                  ⎟\n",
       "             ⎛1⎞          ⅈ                       ⎟\n",
       "──── + ⅈ⋅asin⎜─⎟ - ───────────────     otherwise  ⎟\n",
       "____         ⎝x⎠          ________                ⎟\n",
       " 1                       ╱     1                  ⎟\n",
       " ──                x⋅   ╱  1 - ──                 ⎟\n",
       "  2                    ╱        2                 ⎟\n",
       " x                   ╲╱        x                  ⎠"
      ]
     },
     "execution_count": 4,
     "metadata": {},
     "output_type": "execute_result"
    }
   ],
   "source": [
    "izraz=sp.Mul(sp.asin(abc.x), sp.log(abc.x))\n",
    "sp.pprint(sp.Integral(izraz, abc.x))\n",
    "print('Uspiješno izračunat intergral, iako na internetu piše da verzija Sympy 0.7.2 ga nije mogla riješiti')\n",
    "sp.Integral(izraz, abc.x).doit()\n"
   ]
  },
  {
   "cell_type": "markdown",
   "metadata": {},
   "source": [
    "4.Joker - diferencijalna jednadžba s inicijalnim uvjetima"
   ]
  },
  {
   "cell_type": "code",
   "execution_count": 5,
   "metadata": {},
   "outputs": [
    {
     "data": {
      "image/png": "[encoded data removed]",
      "text/latex": [
       "$\\displaystyle y{\\left(x \\right)} = \\left(8 \\tan{\\left(2 \\right)} + \\frac{4}{\\cos{\\left(2 \\right)}}\\right) \\sin{\\left(x \\right)} + 8 \\cos{\\left(x \\right)} - 1$"
      ],
      "text/plain": [
       "       ⎛             4   ⎞                      \n",
       "y(x) = ⎜8⋅tan(2) + ──────⎟⋅sin(x) + 8⋅cos(x) - 1\n",
       "       ⎝           cos(2)⎠                      "
      ]
     },
     "execution_count": 5,
     "metadata": {},
     "output_type": "execute_result"
    }
   ],
   "source": [
    "y = sp.Function('y')\n",
    "x=abc.x\n",
    "sp.dsolve(sp.Derivative(y(x),x,x)+y(x)+1,y(x),ics={y(0):7, y(x).diff(x).subs(x, 2): 4})"
   ]
  },
  {
   "cell_type": "markdown",
   "metadata": {},
   "source": [
    "5. logika i zaključivanje faktorizacija"
   ]
  },
  {
   "cell_type": "code",
   "execution_count": 6,
   "metadata": {},
   "outputs": [
    {
     "data": {
      "text/plain": [
       "True"
      ]
     },
     "execution_count": 6,
     "metadata": {},
     "output_type": "execute_result"
    }
   ],
   "source": [
    "# M matrica od prije\n",
    "sp.ask(sp.Q.hermitian(M))"
   ]
  },
  {
   "cell_type": "markdown",
   "metadata": {},
   "source": [
    "6. algebarske manipulacije expand"
   ]
  },
  {
   "cell_type": "code",
   "execution_count": 7,
   "metadata": {},
   "outputs": [
    {
     "data": {
      "image/png": "[encoded data removed]",
      "text/latex": [
       "$\\displaystyle 7415771484375 x^{100} + 88989257812500 x^{99} + 498339843750000 x^{98} + 1727578125000000 x^{97} + 4145396484375000 x^{96} + 7289696250000000 x^{95} + 9696307500000000 x^{94} + 9918612000000000 x^{93} + 7845823350000000 x^{92} + 4782110349375000 x^{91} + 2253509197200000 x^{90} + 973474264800000 x^{89} + 791621066880000 x^{88} + 1143027539424000 x^{87} + 1433724492082725 x^{86} + 1331454661249257 x^{85} + 899278832129385 x^{84} + 371722348405845 x^{83} - 273419831576205 x^{82} - 1499239577965215 x^{81} - 3914624271104693 x^{80} - 7616209243361520 x^{79} - 11586201495842880 x^{78} - 13902131657459520 x^{77} - 13111056311988480 x^{76} - 9617611744365920 x^{75} - 5416154445095520 x^{74} - 2388841798000800 x^{73} - 1100821230520410 x^{72} - 1037659904410860 x^{71} - 1405921858750590 x^{70} - 1596219718930400 x^{69} - 1357358317665770 x^{68} - 817445648404780 x^{67} - 221077693581750 x^{66} + 436092086837100 x^{65} + 1456782987882150 x^{64} + 3106283486468000 x^{63} + 5217745498770130 x^{62} + 7080272529520860 x^{61} + 7761027973672230 x^{60} + 6779175500901960 x^{59} + 4613664163874810 x^{58} + 2392102134907510 x^{57} + 981878796314660 x^{56} + 481373299299436 x^{55} + 496446964098610 x^{54} + 625698768815290 x^{53} + 647322438824160 x^{52} + 502790222892610 x^{51} + 260204560312440 x^{50} + 11052232060770 x^{49} - 251798041917880 x^{48} - 618434246510270 x^{47} - 1133748056298240 x^{46} - 1698544734003510 x^{45} - 2093559535823695 x^{44} - 2113237160961380 x^{43} - 1714280623553630 x^{42} - 1080373344458950 x^{41} - 510387860537905 x^{40} - 189819436567220 x^{39} - 95034864353020 x^{38} - 102676937417820 x^{37} - 119936201771065 x^{36} - 113174410634880 x^{35} - 79886132287670 x^{34} - 32803351047480 x^{33} + 12827208696925 x^{32} + 59411298967060 x^{31} + 119940271119051 x^{30} + 195021536392685 x^{29} + 265524179520970 x^{28} + 300903802637715 x^{27} + 280940218748480 x^{26} + 211782916146110 x^{25} + 123015103935305 x^{24} + 51558236018245 x^{23} + 15915211416530 x^{22} + 7069203546100 x^{21} + 7737918598099 x^{20} + 8405989425315 x^{19} + 7155855807020 x^{18} + 4553857900010 x^{17} + 1219495351730 x^{16} - 1925117194925 x^{15} - 4936153808270 x^{14} - 8709330220870 x^{13} - 12843338657560 x^{12} - 16032504138945 x^{11} - 16869805248524 x^{10} - 14599005642600 x^{9} - 10185963537440 x^{8} - 5412261621475 x^{7} - 1885497659540 x^{6} - 319348604450 x^{5} - 7514540840 x^{4} - 75120325 x^{3} - 381495 x^{2} - 975 x - 1$"
      ],
      "text/plain": [
       "               100                   99                    98                 \n",
       "7415771484375⋅x    + 88989257812500⋅x   + 498339843750000⋅x   + 17275781250000\n",
       "\n",
       "    97                     96                     95                     94   \n",
       "00⋅x   + 4145396484375000⋅x   + 7289696250000000⋅x   + 9696307500000000⋅x   + \n",
       "\n",
       "                  93                     92                     91            \n",
       "9918612000000000⋅x   + 7845823350000000⋅x   + 4782110349375000⋅x   + 225350919\n",
       "\n",
       "         90                    89                    88                     87\n",
       "7200000⋅x   + 973474264800000⋅x   + 791621066880000⋅x   + 1143027539424000⋅x  \n",
       "\n",
       "                     86                     85                    84          \n",
       " + 1433724492082725⋅x   + 1331454661249257⋅x   + 899278832129385⋅x   + 3717223\n",
       "\n",
       "          83                    82                     81                     \n",
       "48405845⋅x   - 273419831576205⋅x   - 1499239577965215⋅x   - 3914624271104693⋅x\n",
       "\n",
       "80                     79                      78                      77     \n",
       "   - 7616209243361520⋅x   - 11586201495842880⋅x   - 13902131657459520⋅x   - 13\n",
       "\n",
       "                 76                     75                     74             \n",
       "111056311988480⋅x   - 9617611744365920⋅x   - 5416154445095520⋅x   - 2388841798\n",
       "\n",
       "        73                     72                     71                     7\n",
       "000800⋅x   - 1100821230520410⋅x   - 1037659904410860⋅x   - 1405921858750590⋅x \n",
       "\n",
       "0                     69                     68                    67         \n",
       "  - 1596219718930400⋅x   - 1357358317665770⋅x   - 817445648404780⋅x   - 221077\n",
       "\n",
       "           66                    65                     64                    \n",
       "693581750⋅x   + 436092086837100⋅x   + 1456782987882150⋅x   + 3106283486468000⋅\n",
       "\n",
       " 63                     62                     61                     60      \n",
       "x   + 5217745498770130⋅x   + 7080272529520860⋅x   + 7761027973672230⋅x   + 677\n",
       "\n",
       "               59                     58                     57               \n",
       "9175500901960⋅x   + 4613664163874810⋅x   + 2392102134907510⋅x   + 981878796314\n",
       "\n",
       "     56                    55                    54                    53     \n",
       "660⋅x   + 481373299299436⋅x   + 496446964098610⋅x   + 625698768815290⋅x   + 64\n",
       "\n",
       "               52                    51                    50                 \n",
       "7322438824160⋅x   + 502790222892610⋅x   + 260204560312440⋅x   + 11052232060770\n",
       "\n",
       "  49                    48                    47                     46       \n",
       "⋅x   - 251798041917880⋅x   - 618434246510270⋅x   - 1133748056298240⋅x   - 1698\n",
       "\n",
       "              45                     44                     43                \n",
       "544734003510⋅x   - 2093559535823695⋅x   - 2113237160961380⋅x   - 1714280623553\n",
       "\n",
       "     42                     41                    40                    39    \n",
       "630⋅x   - 1080373344458950⋅x   - 510387860537905⋅x   - 189819436567220⋅x   - 9\n",
       "\n",
       "               38                    37                    36                 \n",
       "5034864353020⋅x   - 102676937417820⋅x   - 119936201771065⋅x   - 11317441063488\n",
       "\n",
       "   35                   34                   33                   32          \n",
       "0⋅x   - 79886132287670⋅x   - 32803351047480⋅x   + 12827208696925⋅x   + 5941129\n",
       "\n",
       "         31                    30                    29                    28 \n",
       "8967060⋅x   + 119940271119051⋅x   + 195021536392685⋅x   + 265524179520970⋅x   \n",
       "\n",
       "                   27                    26                    25             \n",
       "+ 300903802637715⋅x   + 280940218748480⋅x   + 211782916146110⋅x   + 1230151039\n",
       "\n",
       "       24                   23                   22                  21       \n",
       "35305⋅x   + 51558236018245⋅x   + 15915211416530⋅x   + 7069203546100⋅x   + 7737\n",
       "\n",
       "           20                  19                  18                  17     \n",
       "918598099⋅x   + 8405989425315⋅x   + 7155855807020⋅x   + 4553857900010⋅x   + 12\n",
       "\n",
       "             16                  15                  14                  13   \n",
       "19495351730⋅x   - 1925117194925⋅x   - 4936153808270⋅x   - 8709330220870⋅x   - \n",
       "\n",
       "                12                   11                   10                  \n",
       "12843338657560⋅x   - 16032504138945⋅x   - 16869805248524⋅x   - 14599005642600⋅\n",
       "\n",
       " 9                   8                  7                  6                 5\n",
       "x  - 10185963537440⋅x  - 5412261621475⋅x  - 1885497659540⋅x  - 319348604450⋅x \n",
       "\n",
       "               4             3           2            \n",
       " - 7514540840⋅x  - 75120325⋅x  - 381495⋅x  - 975⋅x - 1"
      ]
     },
     "execution_count": 7,
     "metadata": {},
     "output_type": "execute_result"
    }
   ],
   "source": [
    "x=sp.symbols('x')\n",
    "izraz=((x**2+3)**2*(x**2+5*x+7)+(3*x**17-1)*(5*x+4)**3-8*x**4*(x**12-7*x**7+13))**5\n",
    "izraz.expand()"
   ]
  }
 ],
 "metadata": {
  "kernelspec": {
   "display_name": "Python 3",
   "language": "python",
   "name": "python3"
  },
  "language_info": {
   "codemirror_mode": {
    "name": "ipython",
    "version": 3
   },
   "file_extension": ".py",
   "mimetype": "text/x-python",
   "name": "python",
   "nbconvert_exporter": "python",
   "pygments_lexer": "ipython3",
   "version": "3.7.7"
  }
 },
 "nbformat": 4,
 "nbformat_minor": 4
}
